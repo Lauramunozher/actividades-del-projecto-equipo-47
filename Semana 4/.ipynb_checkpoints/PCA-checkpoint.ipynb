{
 "cells": [
  {
   "cell_type": "markdown",
   "metadata": {},
   "source": [
    "# Actividad de la semana 4\n",
    "\n",
    "### Materia: Ciencia y analítica de datos\n",
    "\n",
    "Prof Jobish Vallikavungal\n",
    "\n",
    "Prof Roberto Antonio Guevara González\n",
    "\n",
    "### Nombres: Adriana Camarillo Duran, Laura Munoz Hernandez\n",
    "\n",
    "### Matrículas: A01551139, A01167496\n",
    "\n",
    "Fecha de entrega: 11/10/2022"
   ]
  },
  {
   "cell_type": "markdown",
   "metadata": {},
   "source": [
    "## Parte 1: Ejercicio guiado"
   ]
  },
  {
   "cell_type": "code",
   "execution_count": 46,
   "metadata": {},
   "outputs": [],
   "source": [
    "import pandas as pd\n",
    "import numpy as np\n",
    "import seaborn as sns\n",
    "from sklearn.decomposition import PCA\n",
    "from sklearn import decomposition"
   ]
  },
  {
   "cell_type": "markdown",
   "metadata": {},
   "source": [
    "Este es un dataset que tiene como objetivo determinar si una persona puede ser susceptible a crédito o no de acuerdo a un conjunto de variables"
   ]
  },
  {
   "cell_type": "code",
   "execution_count": 47,
   "metadata": {},
   "outputs": [],
   "source": [
    "url = 'https://raw.githubusercontent.com/PosgradoMNA/Actividades_Aprendizaje-/main/default%20of%20credit%20card%20clients.csv'"
   ]
  },
  {
   "cell_type": "markdown",
   "metadata": {},
   "source": [
    "Utilizamos varias funciones para ver la estructura y características de la base de datos"
   ]
  },
  {
   "cell_type": "code",
   "execution_count": 48,
   "metadata": {},
   "outputs": [
    {
     "data": {
      "text/html": [
       "<div>\n",
       "<style scoped>\n",
       "    .dataframe tbody tr th:only-of-type {\n",
       "        vertical-align: middle;\n",
       "    }\n",
       "\n",
       "    .dataframe tbody tr th {\n",
       "        vertical-align: top;\n",
       "    }\n",
       "\n",
       "    .dataframe thead th {\n",
       "        text-align: right;\n",
       "    }\n",
       "</style>\n",
       "<table border=\"1\" class=\"dataframe\">\n",
       "  <thead>\n",
       "    <tr style=\"text-align: right;\">\n",
       "      <th></th>\n",
       "      <th>ID</th>\n",
       "      <th>X1</th>\n",
       "      <th>X2</th>\n",
       "      <th>X3</th>\n",
       "      <th>X4</th>\n",
       "      <th>X5</th>\n",
       "      <th>X6</th>\n",
       "      <th>X7</th>\n",
       "      <th>X8</th>\n",
       "      <th>X9</th>\n",
       "      <th>...</th>\n",
       "      <th>X15</th>\n",
       "      <th>X16</th>\n",
       "      <th>X17</th>\n",
       "      <th>X18</th>\n",
       "      <th>X19</th>\n",
       "      <th>X20</th>\n",
       "      <th>X21</th>\n",
       "      <th>X22</th>\n",
       "      <th>X23</th>\n",
       "      <th>Y</th>\n",
       "    </tr>\n",
       "  </thead>\n",
       "  <tbody>\n",
       "    <tr>\n",
       "      <th>0</th>\n",
       "      <td>1</td>\n",
       "      <td>20000</td>\n",
       "      <td>2.0</td>\n",
       "      <td>2.0</td>\n",
       "      <td>1.0</td>\n",
       "      <td>24.0</td>\n",
       "      <td>2.0</td>\n",
       "      <td>2.0</td>\n",
       "      <td>-1.0</td>\n",
       "      <td>-1.0</td>\n",
       "      <td>...</td>\n",
       "      <td>0.0</td>\n",
       "      <td>0.0</td>\n",
       "      <td>0.0</td>\n",
       "      <td>0.0</td>\n",
       "      <td>689.0</td>\n",
       "      <td>0.0</td>\n",
       "      <td>0.0</td>\n",
       "      <td>0.0</td>\n",
       "      <td>0.0</td>\n",
       "      <td>1.0</td>\n",
       "    </tr>\n",
       "    <tr>\n",
       "      <th>1</th>\n",
       "      <td>2</td>\n",
       "      <td>120000</td>\n",
       "      <td>2.0</td>\n",
       "      <td>2.0</td>\n",
       "      <td>2.0</td>\n",
       "      <td>26.0</td>\n",
       "      <td>-1.0</td>\n",
       "      <td>2.0</td>\n",
       "      <td>0.0</td>\n",
       "      <td>0.0</td>\n",
       "      <td>...</td>\n",
       "      <td>3272.0</td>\n",
       "      <td>3455.0</td>\n",
       "      <td>3261.0</td>\n",
       "      <td>0.0</td>\n",
       "      <td>1000.0</td>\n",
       "      <td>1000.0</td>\n",
       "      <td>1000.0</td>\n",
       "      <td>0.0</td>\n",
       "      <td>2000.0</td>\n",
       "      <td>1.0</td>\n",
       "    </tr>\n",
       "    <tr>\n",
       "      <th>2</th>\n",
       "      <td>3</td>\n",
       "      <td>90000</td>\n",
       "      <td>2.0</td>\n",
       "      <td>2.0</td>\n",
       "      <td>2.0</td>\n",
       "      <td>34.0</td>\n",
       "      <td>0.0</td>\n",
       "      <td>0.0</td>\n",
       "      <td>0.0</td>\n",
       "      <td>0.0</td>\n",
       "      <td>...</td>\n",
       "      <td>14331.0</td>\n",
       "      <td>14948.0</td>\n",
       "      <td>15549.0</td>\n",
       "      <td>1518.0</td>\n",
       "      <td>1500.0</td>\n",
       "      <td>1000.0</td>\n",
       "      <td>1000.0</td>\n",
       "      <td>1000.0</td>\n",
       "      <td>5000.0</td>\n",
       "      <td>0.0</td>\n",
       "    </tr>\n",
       "    <tr>\n",
       "      <th>3</th>\n",
       "      <td>4</td>\n",
       "      <td>50000</td>\n",
       "      <td>2.0</td>\n",
       "      <td>2.0</td>\n",
       "      <td>1.0</td>\n",
       "      <td>37.0</td>\n",
       "      <td>0.0</td>\n",
       "      <td>0.0</td>\n",
       "      <td>0.0</td>\n",
       "      <td>0.0</td>\n",
       "      <td>...</td>\n",
       "      <td>28314.0</td>\n",
       "      <td>28959.0</td>\n",
       "      <td>29547.0</td>\n",
       "      <td>2000.0</td>\n",
       "      <td>2019.0</td>\n",
       "      <td>1200.0</td>\n",
       "      <td>1100.0</td>\n",
       "      <td>1069.0</td>\n",
       "      <td>1000.0</td>\n",
       "      <td>0.0</td>\n",
       "    </tr>\n",
       "    <tr>\n",
       "      <th>4</th>\n",
       "      <td>5</td>\n",
       "      <td>50000</td>\n",
       "      <td>1.0</td>\n",
       "      <td>2.0</td>\n",
       "      <td>1.0</td>\n",
       "      <td>57.0</td>\n",
       "      <td>-1.0</td>\n",
       "      <td>0.0</td>\n",
       "      <td>-1.0</td>\n",
       "      <td>0.0</td>\n",
       "      <td>...</td>\n",
       "      <td>20940.0</td>\n",
       "      <td>19146.0</td>\n",
       "      <td>19131.0</td>\n",
       "      <td>2000.0</td>\n",
       "      <td>36681.0</td>\n",
       "      <td>10000.0</td>\n",
       "      <td>9000.0</td>\n",
       "      <td>689.0</td>\n",
       "      <td>679.0</td>\n",
       "      <td>0.0</td>\n",
       "    </tr>\n",
       "  </tbody>\n",
       "</table>\n",
       "<p>5 rows × 25 columns</p>\n",
       "</div>"
      ],
      "text/plain": [
       "   ID      X1   X2   X3   X4    X5   X6   X7   X8   X9  ...      X15      X16  \\\n",
       "0   1   20000  2.0  2.0  1.0  24.0  2.0  2.0 -1.0 -1.0  ...      0.0      0.0   \n",
       "1   2  120000  2.0  2.0  2.0  26.0 -1.0  2.0  0.0  0.0  ...   3272.0   3455.0   \n",
       "2   3   90000  2.0  2.0  2.0  34.0  0.0  0.0  0.0  0.0  ...  14331.0  14948.0   \n",
       "3   4   50000  2.0  2.0  1.0  37.0  0.0  0.0  0.0  0.0  ...  28314.0  28959.0   \n",
       "4   5   50000  1.0  2.0  1.0  57.0 -1.0  0.0 -1.0  0.0  ...  20940.0  19146.0   \n",
       "\n",
       "       X17     X18      X19      X20     X21     X22     X23    Y  \n",
       "0      0.0     0.0    689.0      0.0     0.0     0.0     0.0  1.0  \n",
       "1   3261.0     0.0   1000.0   1000.0  1000.0     0.0  2000.0  1.0  \n",
       "2  15549.0  1518.0   1500.0   1000.0  1000.0  1000.0  5000.0  0.0  \n",
       "3  29547.0  2000.0   2019.0   1200.0  1100.0  1069.0  1000.0  0.0  \n",
       "4  19131.0  2000.0  36681.0  10000.0  9000.0   689.0   679.0  0.0  \n",
       "\n",
       "[5 rows x 25 columns]"
      ]
     },
     "execution_count": 48,
     "metadata": {},
     "output_type": "execute_result"
    }
   ],
   "source": [
    "df = pd.read_csv(url)\n",
    "df.head()"
   ]
  },
  {
   "cell_type": "code",
   "execution_count": 49,
   "metadata": {},
   "outputs": [
    {
     "data": {
      "text/plain": [
       "(30000, 25)"
      ]
     },
     "execution_count": 49,
     "metadata": {},
     "output_type": "execute_result"
    }
   ],
   "source": [
    "df.shape"
   ]
  },
  {
   "cell_type": "code",
   "execution_count": 50,
   "metadata": {},
   "outputs": [
    {
     "data": {
      "text/plain": [
       "ID       int64\n",
       "X1       int64\n",
       "X2     float64\n",
       "X3     float64\n",
       "X4     float64\n",
       "X5     float64\n",
       "X6     float64\n",
       "X7     float64\n",
       "X8     float64\n",
       "X9     float64\n",
       "X10    float64\n",
       "X11    float64\n",
       "X12    float64\n",
       "X13    float64\n",
       "X14    float64\n",
       "X15    float64\n",
       "X16    float64\n",
       "X17    float64\n",
       "X18    float64\n",
       "X19    float64\n",
       "X20    float64\n",
       "X21    float64\n",
       "X22    float64\n",
       "X23    float64\n",
       "Y      float64\n",
       "dtype: object"
      ]
     },
     "execution_count": 50,
     "metadata": {},
     "output_type": "execute_result"
    }
   ],
   "source": [
    "df.dtypes"
   ]
  },
  {
   "cell_type": "code",
   "execution_count": 51,
   "metadata": {},
   "outputs": [
    {
     "data": {
      "text/html": [
       "<div>\n",
       "<style scoped>\n",
       "    .dataframe tbody tr th:only-of-type {\n",
       "        vertical-align: middle;\n",
       "    }\n",
       "\n",
       "    .dataframe tbody tr th {\n",
       "        vertical-align: top;\n",
       "    }\n",
       "\n",
       "    .dataframe thead th {\n",
       "        text-align: right;\n",
       "    }\n",
       "</style>\n",
       "<table border=\"1\" class=\"dataframe\">\n",
       "  <thead>\n",
       "    <tr style=\"text-align: right;\">\n",
       "      <th></th>\n",
       "      <th>ID</th>\n",
       "      <th>X1</th>\n",
       "      <th>X2</th>\n",
       "      <th>X3</th>\n",
       "      <th>X4</th>\n",
       "      <th>X5</th>\n",
       "      <th>X6</th>\n",
       "      <th>X7</th>\n",
       "      <th>X8</th>\n",
       "      <th>X9</th>\n",
       "      <th>...</th>\n",
       "      <th>X15</th>\n",
       "      <th>X16</th>\n",
       "      <th>X17</th>\n",
       "      <th>X18</th>\n",
       "      <th>X19</th>\n",
       "      <th>X20</th>\n",
       "      <th>X21</th>\n",
       "      <th>X22</th>\n",
       "      <th>X23</th>\n",
       "      <th>Y</th>\n",
       "    </tr>\n",
       "  </thead>\n",
       "  <tbody>\n",
       "    <tr>\n",
       "      <th>count</th>\n",
       "      <td>30000.000000</td>\n",
       "      <td>30000.000000</td>\n",
       "      <td>29999.000000</td>\n",
       "      <td>29998.000000</td>\n",
       "      <td>29998.000000</td>\n",
       "      <td>29995.000000</td>\n",
       "      <td>29997.000000</td>\n",
       "      <td>29995.000000</td>\n",
       "      <td>29993.000000</td>\n",
       "      <td>29991.000000</td>\n",
       "      <td>...</td>\n",
       "      <td>29985.000000</td>\n",
       "      <td>29983.000000</td>\n",
       "      <td>29990.000000</td>\n",
       "      <td>29992.000000</td>\n",
       "      <td>2.999100e+04</td>\n",
       "      <td>29992.000000</td>\n",
       "      <td>29989.000000</td>\n",
       "      <td>29989.000000</td>\n",
       "      <td>29995.000000</td>\n",
       "      <td>29997.000000</td>\n",
       "    </tr>\n",
       "    <tr>\n",
       "      <th>mean</th>\n",
       "      <td>15000.500000</td>\n",
       "      <td>167484.322667</td>\n",
       "      <td>1.603753</td>\n",
       "      <td>1.853057</td>\n",
       "      <td>1.551903</td>\n",
       "      <td>35.484214</td>\n",
       "      <td>-0.016635</td>\n",
       "      <td>-0.133689</td>\n",
       "      <td>-0.166405</td>\n",
       "      <td>-0.220800</td>\n",
       "      <td>...</td>\n",
       "      <td>43275.652326</td>\n",
       "      <td>40324.493980</td>\n",
       "      <td>38881.135745</td>\n",
       "      <td>5662.945886</td>\n",
       "      <td>5.922489e+03</td>\n",
       "      <td>5225.623400</td>\n",
       "      <td>4827.252526</td>\n",
       "      <td>4800.297209</td>\n",
       "      <td>5216.259977</td>\n",
       "      <td>0.221189</td>\n",
       "    </tr>\n",
       "    <tr>\n",
       "      <th>std</th>\n",
       "      <td>8660.398374</td>\n",
       "      <td>129747.661567</td>\n",
       "      <td>0.489125</td>\n",
       "      <td>0.790320</td>\n",
       "      <td>0.521968</td>\n",
       "      <td>9.218024</td>\n",
       "      <td>1.123829</td>\n",
       "      <td>1.197254</td>\n",
       "      <td>1.196048</td>\n",
       "      <td>1.169153</td>\n",
       "      <td>...</td>\n",
       "      <td>64345.500073</td>\n",
       "      <td>60809.984983</td>\n",
       "      <td>59561.312967</td>\n",
       "      <td>16564.165089</td>\n",
       "      <td>2.304418e+04</td>\n",
       "      <td>17608.422625</td>\n",
       "      <td>15668.751975</td>\n",
       "      <td>15280.842069</td>\n",
       "      <td>17778.848359</td>\n",
       "      <td>0.415054</td>\n",
       "    </tr>\n",
       "    <tr>\n",
       "      <th>min</th>\n",
       "      <td>1.000000</td>\n",
       "      <td>10000.000000</td>\n",
       "      <td>1.000000</td>\n",
       "      <td>0.000000</td>\n",
       "      <td>0.000000</td>\n",
       "      <td>21.000000</td>\n",
       "      <td>-2.000000</td>\n",
       "      <td>-2.000000</td>\n",
       "      <td>-2.000000</td>\n",
       "      <td>-2.000000</td>\n",
       "      <td>...</td>\n",
       "      <td>-170000.000000</td>\n",
       "      <td>-81334.000000</td>\n",
       "      <td>-339603.000000</td>\n",
       "      <td>0.000000</td>\n",
       "      <td>0.000000e+00</td>\n",
       "      <td>0.000000</td>\n",
       "      <td>0.000000</td>\n",
       "      <td>0.000000</td>\n",
       "      <td>0.000000</td>\n",
       "      <td>0.000000</td>\n",
       "    </tr>\n",
       "    <tr>\n",
       "      <th>25%</th>\n",
       "      <td>7500.750000</td>\n",
       "      <td>50000.000000</td>\n",
       "      <td>1.000000</td>\n",
       "      <td>1.000000</td>\n",
       "      <td>1.000000</td>\n",
       "      <td>28.000000</td>\n",
       "      <td>-1.000000</td>\n",
       "      <td>-1.000000</td>\n",
       "      <td>-1.000000</td>\n",
       "      <td>-1.000000</td>\n",
       "      <td>...</td>\n",
       "      <td>2329.000000</td>\n",
       "      <td>1763.500000</td>\n",
       "      <td>1256.250000</td>\n",
       "      <td>1000.000000</td>\n",
       "      <td>8.355000e+02</td>\n",
       "      <td>390.000000</td>\n",
       "      <td>296.000000</td>\n",
       "      <td>251.000000</td>\n",
       "      <td>118.000000</td>\n",
       "      <td>0.000000</td>\n",
       "    </tr>\n",
       "    <tr>\n",
       "      <th>50%</th>\n",
       "      <td>15000.500000</td>\n",
       "      <td>140000.000000</td>\n",
       "      <td>2.000000</td>\n",
       "      <td>2.000000</td>\n",
       "      <td>2.000000</td>\n",
       "      <td>34.000000</td>\n",
       "      <td>0.000000</td>\n",
       "      <td>0.000000</td>\n",
       "      <td>0.000000</td>\n",
       "      <td>0.000000</td>\n",
       "      <td>...</td>\n",
       "      <td>19052.000000</td>\n",
       "      <td>18107.000000</td>\n",
       "      <td>17081.000000</td>\n",
       "      <td>2100.000000</td>\n",
       "      <td>2.009000e+03</td>\n",
       "      <td>1800.000000</td>\n",
       "      <td>1500.000000</td>\n",
       "      <td>1500.000000</td>\n",
       "      <td>1500.000000</td>\n",
       "      <td>0.000000</td>\n",
       "    </tr>\n",
       "    <tr>\n",
       "      <th>75%</th>\n",
       "      <td>22500.250000</td>\n",
       "      <td>240000.000000</td>\n",
       "      <td>2.000000</td>\n",
       "      <td>2.000000</td>\n",
       "      <td>2.000000</td>\n",
       "      <td>41.000000</td>\n",
       "      <td>0.000000</td>\n",
       "      <td>0.000000</td>\n",
       "      <td>0.000000</td>\n",
       "      <td>0.000000</td>\n",
       "      <td>...</td>\n",
       "      <td>54560.000000</td>\n",
       "      <td>50213.000000</td>\n",
       "      <td>49208.250000</td>\n",
       "      <td>5006.000000</td>\n",
       "      <td>5.000000e+03</td>\n",
       "      <td>4505.500000</td>\n",
       "      <td>4014.000000</td>\n",
       "      <td>4033.000000</td>\n",
       "      <td>4000.000000</td>\n",
       "      <td>0.000000</td>\n",
       "    </tr>\n",
       "    <tr>\n",
       "      <th>max</th>\n",
       "      <td>30000.000000</td>\n",
       "      <td>1000000.000000</td>\n",
       "      <td>2.000000</td>\n",
       "      <td>6.000000</td>\n",
       "      <td>3.000000</td>\n",
       "      <td>79.000000</td>\n",
       "      <td>8.000000</td>\n",
       "      <td>8.000000</td>\n",
       "      <td>8.000000</td>\n",
       "      <td>8.000000</td>\n",
       "      <td>...</td>\n",
       "      <td>891586.000000</td>\n",
       "      <td>927171.000000</td>\n",
       "      <td>961664.000000</td>\n",
       "      <td>873552.000000</td>\n",
       "      <td>1.684259e+06</td>\n",
       "      <td>896040.000000</td>\n",
       "      <td>621000.000000</td>\n",
       "      <td>426529.000000</td>\n",
       "      <td>528666.000000</td>\n",
       "      <td>1.000000</td>\n",
       "    </tr>\n",
       "  </tbody>\n",
       "</table>\n",
       "<p>8 rows × 25 columns</p>\n",
       "</div>"
      ],
      "text/plain": [
       "                 ID              X1            X2            X3            X4  \\\n",
       "count  30000.000000    30000.000000  29999.000000  29998.000000  29998.000000   \n",
       "mean   15000.500000   167484.322667      1.603753      1.853057      1.551903   \n",
       "std     8660.398374   129747.661567      0.489125      0.790320      0.521968   \n",
       "min        1.000000    10000.000000      1.000000      0.000000      0.000000   \n",
       "25%     7500.750000    50000.000000      1.000000      1.000000      1.000000   \n",
       "50%    15000.500000   140000.000000      2.000000      2.000000      2.000000   \n",
       "75%    22500.250000   240000.000000      2.000000      2.000000      2.000000   \n",
       "max    30000.000000  1000000.000000      2.000000      6.000000      3.000000   \n",
       "\n",
       "                 X5            X6            X7            X8            X9  \\\n",
       "count  29995.000000  29997.000000  29995.000000  29993.000000  29991.000000   \n",
       "mean      35.484214     -0.016635     -0.133689     -0.166405     -0.220800   \n",
       "std        9.218024      1.123829      1.197254      1.196048      1.169153   \n",
       "min       21.000000     -2.000000     -2.000000     -2.000000     -2.000000   \n",
       "25%       28.000000     -1.000000     -1.000000     -1.000000     -1.000000   \n",
       "50%       34.000000      0.000000      0.000000      0.000000      0.000000   \n",
       "75%       41.000000      0.000000      0.000000      0.000000      0.000000   \n",
       "max       79.000000      8.000000      8.000000      8.000000      8.000000   \n",
       "\n",
       "       ...            X15            X16            X17            X18  \\\n",
       "count  ...   29985.000000   29983.000000   29990.000000   29992.000000   \n",
       "mean   ...   43275.652326   40324.493980   38881.135745    5662.945886   \n",
       "std    ...   64345.500073   60809.984983   59561.312967   16564.165089   \n",
       "min    ... -170000.000000  -81334.000000 -339603.000000       0.000000   \n",
       "25%    ...    2329.000000    1763.500000    1256.250000    1000.000000   \n",
       "50%    ...   19052.000000   18107.000000   17081.000000    2100.000000   \n",
       "75%    ...   54560.000000   50213.000000   49208.250000    5006.000000   \n",
       "max    ...  891586.000000  927171.000000  961664.000000  873552.000000   \n",
       "\n",
       "                X19            X20            X21            X22  \\\n",
       "count  2.999100e+04   29992.000000   29989.000000   29989.000000   \n",
       "mean   5.922489e+03    5225.623400    4827.252526    4800.297209   \n",
       "std    2.304418e+04   17608.422625   15668.751975   15280.842069   \n",
       "min    0.000000e+00       0.000000       0.000000       0.000000   \n",
       "25%    8.355000e+02     390.000000     296.000000     251.000000   \n",
       "50%    2.009000e+03    1800.000000    1500.000000    1500.000000   \n",
       "75%    5.000000e+03    4505.500000    4014.000000    4033.000000   \n",
       "max    1.684259e+06  896040.000000  621000.000000  426529.000000   \n",
       "\n",
       "                 X23             Y  \n",
       "count   29995.000000  29997.000000  \n",
       "mean     5216.259977      0.221189  \n",
       "std     17778.848359      0.415054  \n",
       "min         0.000000      0.000000  \n",
       "25%       118.000000      0.000000  \n",
       "50%      1500.000000      0.000000  \n",
       "75%      4000.000000      0.000000  \n",
       "max    528666.000000      1.000000  \n",
       "\n",
       "[8 rows x 25 columns]"
      ]
     },
     "execution_count": 51,
     "metadata": {},
     "output_type": "execute_result"
    }
   ],
   "source": [
    "df.describe()"
   ]
  },
  {
   "cell_type": "code",
   "execution_count": 52,
   "metadata": {},
   "outputs": [
    {
     "name": "stdout",
     "output_type": "stream",
     "text": [
      "<class 'pandas.core.frame.DataFrame'>\n",
      "RangeIndex: 30000 entries, 0 to 29999\n",
      "Data columns (total 25 columns):\n",
      " #   Column  Non-Null Count  Dtype  \n",
      "---  ------  --------------  -----  \n",
      " 0   ID      30000 non-null  int64  \n",
      " 1   X1      30000 non-null  int64  \n",
      " 2   X2      29999 non-null  float64\n",
      " 3   X3      29998 non-null  float64\n",
      " 4   X4      29998 non-null  float64\n",
      " 5   X5      29995 non-null  float64\n",
      " 6   X6      29997 non-null  float64\n",
      " 7   X7      29995 non-null  float64\n",
      " 8   X8      29993 non-null  float64\n",
      " 9   X9      29991 non-null  float64\n",
      " 10  X10     29984 non-null  float64\n",
      " 11  X11     29986 non-null  float64\n",
      " 12  X12     29989 non-null  float64\n",
      " 13  X13     29989 non-null  float64\n",
      " 14  X14     29987 non-null  float64\n",
      " 15  X15     29985 non-null  float64\n",
      " 16  X16     29983 non-null  float64\n",
      " 17  X17     29990 non-null  float64\n",
      " 18  X18     29992 non-null  float64\n",
      " 19  X19     29991 non-null  float64\n",
      " 20  X20     29992 non-null  float64\n",
      " 21  X21     29989 non-null  float64\n",
      " 22  X22     29989 non-null  float64\n",
      " 23  X23     29995 non-null  float64\n",
      " 24  Y       29997 non-null  float64\n",
      "dtypes: float64(23), int64(2)\n",
      "memory usage: 5.7 MB\n"
     ]
    }
   ],
   "source": [
    "df.info()"
   ]
  },
  {
   "cell_type": "markdown",
   "metadata": {},
   "source": [
    "Los nulos nos causan problemas para sacar la varianza, por lo que eliminamos los eliminamos para este ejercicio"
   ]
  },
  {
   "cell_type": "code",
   "execution_count": 53,
   "metadata": {},
   "outputs": [],
   "source": [
    "df_nulls = df.copy().dropna()"
   ]
  },
  {
   "cell_type": "code",
   "execution_count": 54,
   "metadata": {},
   "outputs": [
    {
     "name": "stdout",
     "output_type": "stream",
     "text": [
      "<class 'pandas.core.frame.DataFrame'>\n",
      "Int64Index: 29958 entries, 0 to 29999\n",
      "Data columns (total 25 columns):\n",
      " #   Column  Non-Null Count  Dtype  \n",
      "---  ------  --------------  -----  \n",
      " 0   ID      29958 non-null  int64  \n",
      " 1   X1      29958 non-null  int64  \n",
      " 2   X2      29958 non-null  float64\n",
      " 3   X3      29958 non-null  float64\n",
      " 4   X4      29958 non-null  float64\n",
      " 5   X5      29958 non-null  float64\n",
      " 6   X6      29958 non-null  float64\n",
      " 7   X7      29958 non-null  float64\n",
      " 8   X8      29958 non-null  float64\n",
      " 9   X9      29958 non-null  float64\n",
      " 10  X10     29958 non-null  float64\n",
      " 11  X11     29958 non-null  float64\n",
      " 12  X12     29958 non-null  float64\n",
      " 13  X13     29958 non-null  float64\n",
      " 14  X14     29958 non-null  float64\n",
      " 15  X15     29958 non-null  float64\n",
      " 16  X16     29958 non-null  float64\n",
      " 17  X17     29958 non-null  float64\n",
      " 18  X18     29958 non-null  float64\n",
      " 19  X19     29958 non-null  float64\n",
      " 20  X20     29958 non-null  float64\n",
      " 21  X21     29958 non-null  float64\n",
      " 22  X22     29958 non-null  float64\n",
      " 23  X23     29958 non-null  float64\n",
      " 24  Y       29958 non-null  float64\n",
      "dtypes: float64(23), int64(2)\n",
      "memory usage: 5.9 MB\n"
     ]
    }
   ],
   "source": [
    "df_nulls.info()"
   ]
  },
  {
   "cell_type": "markdown",
   "metadata": {},
   "source": [
    "### Varianza, covarianza y correlación"
   ]
  },
  {
   "cell_type": "markdown",
   "metadata": {},
   "source": [
    "Primero nos enfocaremos en 2 variables que serían:\n",
    "\n",
    "- X4 : Marital Status\n",
    "\n",
    "- X5 : Age"
   ]
  },
  {
   "cell_type": "code",
   "execution_count": 55,
   "metadata": {},
   "outputs": [
    {
     "data": {
      "text/plain": [
       "<AxesSubplot:xlabel='X4', ylabel='X5'>"
      ]
     },
     "execution_count": 55,
     "metadata": {},
     "output_type": "execute_result"
    },
    {
     "data": {
      "image/png": "[encoded data removed]",
      "text/plain": [
       "<Figure size 432x288 with 1 Axes>"
      ]
     },
     "metadata": {},
     "output_type": "display_data"
    }
   ],
   "source": [
    "r = sns.regplot(data = df_nulls,  \n",
    "                x = df_nulls.X4, \n",
    "                y = df_nulls.X5\n",
    "               ) \n",
    "r"
   ]
  },
  {
   "cell_type": "code",
   "execution_count": 56,
   "metadata": {},
   "outputs": [
    {
     "data": {
      "text/html": [
       "<div>\n",
       "<style scoped>\n",
       "    .dataframe tbody tr th:only-of-type {\n",
       "        vertical-align: middle;\n",
       "    }\n",
       "\n",
       "    .dataframe tbody tr th {\n",
       "        vertical-align: top;\n",
       "    }\n",
       "\n",
       "    .dataframe thead th {\n",
       "        text-align: right;\n",
       "    }\n",
       "</style>\n",
       "<table border=\"1\" class=\"dataframe\">\n",
       "  <thead>\n",
       "    <tr style=\"text-align: right;\">\n",
       "      <th></th>\n",
       "      <th>X4</th>\n",
       "      <th>X5</th>\n",
       "    </tr>\n",
       "  </thead>\n",
       "  <tbody>\n",
       "    <tr>\n",
       "      <th>X4</th>\n",
       "      <td>1.000000</td>\n",
       "      <td>-0.413926</td>\n",
       "    </tr>\n",
       "    <tr>\n",
       "      <th>X5</th>\n",
       "      <td>-0.413926</td>\n",
       "      <td>1.000000</td>\n",
       "    </tr>\n",
       "  </tbody>\n",
       "</table>\n",
       "</div>"
      ],
      "text/plain": [
       "          X4        X5\n",
       "X4  1.000000 -0.413926\n",
       "X5 -0.413926  1.000000"
      ]
     },
     "execution_count": 56,
     "metadata": {},
     "output_type": "execute_result"
    }
   ],
   "source": [
    "ndf = df_nulls[['X4', 'X5']]\n",
    "ndf.corr()"
   ]
  },
  {
   "cell_type": "code",
   "execution_count": 57,
   "metadata": {},
   "outputs": [
    {
     "data": {
      "text/plain": [
       "1.55"
      ]
     },
     "execution_count": 57,
     "metadata": {},
     "output_type": "execute_result"
    }
   ],
   "source": [
    "np.round(df_nulls.X4.mean(),2)"
   ]
  },
  {
   "cell_type": "code",
   "execution_count": 58,
   "metadata": {},
   "outputs": [
    {
     "data": {
      "text/plain": [
       "35.48"
      ]
     },
     "execution_count": 58,
     "metadata": {},
     "output_type": "execute_result"
    }
   ],
   "source": [
    "np.round(df_nulls.X5.mean(),2)"
   ]
  },
  {
   "cell_type": "code",
   "execution_count": 59,
   "metadata": {},
   "outputs": [
    {
     "data": {
      "text/plain": [
       "array([[ 0.27243397, -1.99074799],\n",
       "       [-1.99074799, 84.90367153]])"
      ]
     },
     "execution_count": 59,
     "metadata": {},
     "output_type": "execute_result"
    }
   ],
   "source": [
    "Variance = np.cov([df_nulls.X4, df_nulls.X5])\n",
    "Variance"
   ]
  },
  {
   "cell_type": "code",
   "execution_count": 60,
   "metadata": {},
   "outputs": [
    {
     "data": {
      "text/plain": [
       "85.24442036100771"
      ]
     },
     "execution_count": 60,
     "metadata": {},
     "output_type": "execute_result"
    }
   ],
   "source": [
    "ndf = df[['X4','X5']]\n",
    "ndf.var().sum()"
   ]
  },
  {
   "cell_type": "code",
   "execution_count": 61,
   "metadata": {},
   "outputs": [],
   "source": [
    "t= ndf.var().sum()\n",
    "varMarital =Variance[0][0]\n",
    "varAge = Variance[1][1]"
   ]
  },
  {
   "cell_type": "markdown",
   "metadata": {},
   "source": [
    "Vemos que de la varianza total, Marital Status solo representa el 0.32% por lo que si eliminaramos esa variable, no perderíamos mucha de nuestra variabilidad:"
   ]
  },
  {
   "cell_type": "code",
   "execution_count": 62,
   "metadata": {},
   "outputs": [
    {
     "name": "stdout",
     "output_type": "stream",
     "text": [
      "Total Variance \t\t\t: 85.24\n",
      "Varience prop. of Marital Status \t: 0.32 %\n",
      "Varience prop. of Age            \t: 99.6 %\n"
     ]
    }
   ],
   "source": [
    "print('Total Variance \\t\\t\\t:', t.round(2) )\n",
    "print('Varience prop. of Marital Status \\t:', ((varMarital/t)*100).round(2),'%' )\n",
    "print('Varience prop. of Age            \\t:', ((varAge/t)*100).round(2),'%' )"
   ]
  },
  {
   "cell_type": "markdown",
   "metadata": {},
   "source": [
    "Ahora experimentamos con X1 y X5 (Amount y Age)"
   ]
  },
  {
   "cell_type": "code",
   "execution_count": 63,
   "metadata": {},
   "outputs": [
    {
     "data": {
      "text/plain": [
       "<AxesSubplot:xlabel='X1', ylabel='X5'>"
      ]
     },
     "execution_count": 63,
     "metadata": {},
     "output_type": "execute_result"
    },
    {
     "data": {
      "image/png": "[encoded data removed]",
      "text/plain": [
       "<Figure size 432x288 with 1 Axes>"
      ]
     },
     "metadata": {},
     "output_type": "display_data"
    }
   ],
   "source": [
    "p = sns.regplot(data = df_nulls,  \n",
    "                x = df_nulls.X1, \n",
    "                y = df_nulls.X5\n",
    "               ) \n",
    "p"
   ]
  },
  {
   "cell_type": "code",
   "execution_count": 64,
   "metadata": {},
   "outputs": [
    {
     "data": {
      "text/html": [
       "<div>\n",
       "<style scoped>\n",
       "    .dataframe tbody tr th:only-of-type {\n",
       "        vertical-align: middle;\n",
       "    }\n",
       "\n",
       "    .dataframe tbody tr th {\n",
       "        vertical-align: top;\n",
       "    }\n",
       "\n",
       "    .dataframe thead th {\n",
       "        text-align: right;\n",
       "    }\n",
       "</style>\n",
       "<table border=\"1\" class=\"dataframe\">\n",
       "  <thead>\n",
       "    <tr style=\"text-align: right;\">\n",
       "      <th></th>\n",
       "      <th>X1</th>\n",
       "      <th>X5</th>\n",
       "    </tr>\n",
       "  </thead>\n",
       "  <tbody>\n",
       "    <tr>\n",
       "      <th>X1</th>\n",
       "      <td>1.000000</td>\n",
       "      <td>0.144515</td>\n",
       "    </tr>\n",
       "    <tr>\n",
       "      <th>X5</th>\n",
       "      <td>0.144515</td>\n",
       "      <td>1.000000</td>\n",
       "    </tr>\n",
       "  </tbody>\n",
       "</table>\n",
       "</div>"
      ],
      "text/plain": [
       "          X1        X5\n",
       "X1  1.000000  0.144515\n",
       "X5  0.144515  1.000000"
      ]
     },
     "execution_count": 64,
     "metadata": {},
     "output_type": "execute_result"
    }
   ],
   "source": [
    "ndf2 = df_nulls[['X1', 'X5']]\n",
    "ndf2.corr()"
   ]
  },
  {
   "cell_type": "code",
   "execution_count": 65,
   "metadata": {},
   "outputs": [
    {
     "data": {
      "text/plain": [
       "array([[1.68317668e+10, 1.72759143e+05],\n",
       "       [1.72759143e+05, 8.49036715e+01]])"
      ]
     },
     "execution_count": 65,
     "metadata": {},
     "output_type": "execute_result"
    }
   ],
   "source": [
    "Variance2 = np.cov([df_nulls.X1, df_nulls.X5])\n",
    "Variance2"
   ]
  },
  {
   "cell_type": "code",
   "execution_count": 66,
   "metadata": {},
   "outputs": [
    {
     "data": {
      "text/plain": [
       "16831766859.49057"
      ]
     },
     "execution_count": 66,
     "metadata": {},
     "output_type": "execute_result"
    }
   ],
   "source": [
    "ndf2 = df_nulls[['X1','X5']]\n",
    "ndf2.var().sum()"
   ]
  },
  {
   "cell_type": "code",
   "execution_count": 67,
   "metadata": {},
   "outputs": [],
   "source": [
    "t2= ndf2.var().sum()\n",
    "varAmount =Variance2[0][0]\n",
    "varAge2 = Variance2[1][1]"
   ]
  },
  {
   "cell_type": "markdown",
   "metadata": {},
   "source": [
    "En este otro caso, vemos que de la varianza total, Age no representa prácticamente nada de la variabilidad:"
   ]
  },
  {
   "cell_type": "code",
   "execution_count": 68,
   "metadata": {},
   "outputs": [
    {
     "name": "stdout",
     "output_type": "stream",
     "text": [
      "Total Variance \t\t\t: 16831766859.49\n",
      "Varience prop. of Amount \t: 100.0 %\n",
      "Varience prop. of Age    \t: 0.0 %\n"
     ]
    }
   ],
   "source": [
    "print('Total Variance \\t\\t\\t:', t2.round(2) )\n",
    "print('Varience prop. of Amount \\t:', ((varAmount/t2)*100).round(2),'%' )\n",
    "print('Varience prop. of Age    \\t:', ((varAge2/t2)*100).round(2),'%' )"
   ]
  },
  {
   "cell_type": "markdown",
   "metadata": {},
   "source": [
    "### PCA"
   ]
  },
  {
   "cell_type": "markdown",
   "metadata": {},
   "source": [
    "Ahora utilizaremos PCA para encontrar una combinación linear de nuestras variables y poder encontrar aquellas que expliquen la mayor cantidad de información posible. \n",
    "\n",
    "Primero probamos sólo con dos variables:"
   ]
  },
  {
   "cell_type": "code",
   "execution_count": 69,
   "metadata": {},
   "outputs": [
    {
     "data": {
      "text/html": [
       "<div>\n",
       "<style scoped>\n",
       "    .dataframe tbody tr th:only-of-type {\n",
       "        vertical-align: middle;\n",
       "    }\n",
       "\n",
       "    .dataframe tbody tr th {\n",
       "        vertical-align: top;\n",
       "    }\n",
       "\n",
       "    .dataframe thead th {\n",
       "        text-align: right;\n",
       "    }\n",
       "</style>\n",
       "<table border=\"1\" class=\"dataframe\">\n",
       "  <thead>\n",
       "    <tr style=\"text-align: right;\">\n",
       "      <th></th>\n",
       "      <th>Standard deviation</th>\n",
       "      <th>Proportion of variance</th>\n",
       "      <th>Cumulative proportion</th>\n",
       "    </tr>\n",
       "  </thead>\n",
       "  <tbody>\n",
       "    <tr>\n",
       "      <th>0</th>\n",
       "      <td>129737.299095</td>\n",
       "      <td>1.000000e+00</td>\n",
       "      <td>1.0</td>\n",
       "    </tr>\n",
       "    <tr>\n",
       "      <th>1</th>\n",
       "      <td>9.117593</td>\n",
       "      <td>4.938905e-09</td>\n",
       "      <td>1.0</td>\n",
       "    </tr>\n",
       "  </tbody>\n",
       "</table>\n",
       "</div>"
      ],
      "text/plain": [
       "   Standard deviation  Proportion of variance  Cumulative proportion\n",
       "0       129737.299095            1.000000e+00                    1.0\n",
       "1            9.117593            4.938905e-09                    1.0"
      ]
     },
     "execution_count": 69,
     "metadata": {},
     "output_type": "execute_result"
    }
   ],
   "source": [
    "pca = PCA(n_components=2)\n",
    "\n",
    "pca.fit(df_nulls[['X1', 'X5']])\n",
    "\n",
    "pcaSummary = pd.DataFrame({'Standard deviation': np.sqrt(pca.explained_variance_),\n",
    "                          'Proportion of variance': pca.explained_variance_ratio_,\n",
    "                          'Cumulative proportion': np.cumsum(pca.explained_variance_ratio_)#column \n",
    "                          }\n",
    "                          )\n",
    "pcaSummary"
   ]
  },
  {
   "cell_type": "code",
   "execution_count": 70,
   "metadata": {},
   "outputs": [
    {
     "data": {
      "text/html": [
       "<div>\n",
       "<style scoped>\n",
       "    .dataframe tbody tr th:only-of-type {\n",
       "        vertical-align: middle;\n",
       "    }\n",
       "\n",
       "    .dataframe tbody tr th {\n",
       "        vertical-align: top;\n",
       "    }\n",
       "\n",
       "    .dataframe thead th {\n",
       "        text-align: right;\n",
       "    }\n",
       "</style>\n",
       "<table border=\"1\" class=\"dataframe\">\n",
       "  <thead>\n",
       "    <tr style=\"text-align: right;\">\n",
       "      <th></th>\n",
       "      <th>0</th>\n",
       "      <th>1</th>\n",
       "    </tr>\n",
       "  </thead>\n",
       "  <tbody>\n",
       "    <tr>\n",
       "      <th>Standard deviation</th>\n",
       "      <td>129737.3</td>\n",
       "      <td>9.12</td>\n",
       "    </tr>\n",
       "    <tr>\n",
       "      <th>Proportion of variance</th>\n",
       "      <td>1.0</td>\n",
       "      <td>0.00</td>\n",
       "    </tr>\n",
       "    <tr>\n",
       "      <th>Cumulative proportion</th>\n",
       "      <td>1.0</td>\n",
       "      <td>1.00</td>\n",
       "    </tr>\n",
       "  </tbody>\n",
       "</table>\n",
       "</div>"
      ],
      "text/plain": [
       "                               0     1\n",
       "Standard deviation      129737.3  9.12\n",
       "Proportion of variance       1.0  0.00\n",
       "Cumulative proportion        1.0  1.00"
      ]
     },
     "execution_count": 70,
     "metadata": {},
     "output_type": "execute_result"
    }
   ],
   "source": [
    "pcaSummary = pcaSummary.transpose()\n",
    "pcaSummary.round(2)"
   ]
  },
  {
   "cell_type": "markdown",
   "metadata": {},
   "source": [
    "Como podemos observar, prácticamente la primera componente explica toda la variabilidad, lo cual era de esperarse dado a los resultados que habíamos visto antes con la varianza."
   ]
  },
  {
   "cell_type": "code",
   "execution_count": 71,
   "metadata": {},
   "outputs": [
    {
     "data": {
      "text/html": [
       "<div>\n",
       "<style scoped>\n",
       "    .dataframe tbody tr th:only-of-type {\n",
       "        vertical-align: middle;\n",
       "    }\n",
       "\n",
       "    .dataframe tbody tr th {\n",
       "        vertical-align: top;\n",
       "    }\n",
       "\n",
       "    .dataframe thead th {\n",
       "        text-align: right;\n",
       "    }\n",
       "</style>\n",
       "<table border=\"1\" class=\"dataframe\">\n",
       "  <thead>\n",
       "    <tr style=\"text-align: right;\">\n",
       "      <th></th>\n",
       "      <th>PC1</th>\n",
       "      <th>PC2</th>\n",
       "    </tr>\n",
       "  </thead>\n",
       "  <tbody>\n",
       "    <tr>\n",
       "      <th>Standard deviation</th>\n",
       "      <td>129737.2991</td>\n",
       "      <td>9.1176</td>\n",
       "    </tr>\n",
       "    <tr>\n",
       "      <th>Proportion of variance</th>\n",
       "      <td>1.0000</td>\n",
       "      <td>0.0000</td>\n",
       "    </tr>\n",
       "    <tr>\n",
       "      <th>Cumulative proportion</th>\n",
       "      <td>1.0000</td>\n",
       "      <td>1.0000</td>\n",
       "    </tr>\n",
       "  </tbody>\n",
       "</table>\n",
       "</div>"
      ],
      "text/plain": [
       "                                PC1     PC2\n",
       "Standard deviation      129737.2991  9.1176\n",
       "Proportion of variance       1.0000  0.0000\n",
       "Cumulative proportion        1.0000  1.0000"
      ]
     },
     "execution_count": 71,
     "metadata": {},
     "output_type": "execute_result"
    }
   ],
   "source": [
    "pcaSummary.columns = ['PC1', 'PC2']\n",
    "pcaSummary = pcaSummary.round(4)\n",
    "pcaSummary"
   ]
  },
  {
   "cell_type": "markdown",
   "metadata": {},
   "source": [
    "Repetimos el mismo proceso, pero ahora con todas las variables, a excepción del ID. Además, estandarizamos las variables para tener datos con las mismas escales y evitar que el PCA se enfoque en ciertas variables de manera incorrecta.\n",
    "\n",
    " Observamos que requerimos de por lo menos los primeros 13 componentes para explicar más del 90% de la varianza:"
   ]
  },
  {
   "cell_type": "raw",
   "metadata": {},
   "source": [
    "pca2 = decomposition.PCA(n_components=10)\n",
    "pc = pca2.fit_transform(df_nulls.iloc[:, 1:-1])\n",
    "\n",
    "pcaSummary = pd.DataFrame({'Standard deviation': np.sqrt(pca2.explained_variance_),\n",
    "                          'Proportion of variance': pca2.explained_variance_ratio_,\n",
    "                          'Cumulative proportion': np.cumsum(pca2.explained_variance_ratio_),\n",
    "                          'PC':['PC1','PC2','PC3','PC4','PC5','PC6','PC7','PC8','PC9','PC10']\n",
    "                          }\n",
    "                          )\n",
    "pcaSummary"
   ]
  },
  {
   "cell_type": "code",
   "execution_count": 104,
   "metadata": {},
   "outputs": [],
   "source": [
    "from sklearn import preprocessing\n",
    "pd.set_option('display.max_columns',None)"
   ]
  },
  {
   "cell_type": "code",
   "execution_count": 107,
   "metadata": {},
   "outputs": [
    {
     "data": {
      "text/html": [
       "<div>\n",
       "<style scoped>\n",
       "    .dataframe tbody tr th:only-of-type {\n",
       "        vertical-align: middle;\n",
       "    }\n",
       "\n",
       "    .dataframe tbody tr th {\n",
       "        vertical-align: top;\n",
       "    }\n",
       "\n",
       "    .dataframe thead th {\n",
       "        text-align: right;\n",
       "    }\n",
       "</style>\n",
       "<table border=\"1\" class=\"dataframe\">\n",
       "  <thead>\n",
       "    <tr style=\"text-align: right;\">\n",
       "      <th></th>\n",
       "      <th>PC1</th>\n",
       "      <th>PC2</th>\n",
       "      <th>PC3</th>\n",
       "      <th>PC4</th>\n",
       "      <th>PC5</th>\n",
       "      <th>PC6</th>\n",
       "      <th>PC7</th>\n",
       "      <th>PC8</th>\n",
       "      <th>PC9</th>\n",
       "      <th>PC10</th>\n",
       "      <th>PC11</th>\n",
       "      <th>PC12</th>\n",
       "      <th>PC13</th>\n",
       "      <th>PC14</th>\n",
       "      <th>PC15</th>\n",
       "      <th>PC16</th>\n",
       "      <th>PC17</th>\n",
       "      <th>PC18</th>\n",
       "      <th>PC19</th>\n",
       "      <th>PC20</th>\n",
       "      <th>PC21</th>\n",
       "      <th>PC22</th>\n",
       "      <th>PC23</th>\n",
       "    </tr>\n",
       "  </thead>\n",
       "  <tbody>\n",
       "    <tr>\n",
       "      <th>Standard deviation</th>\n",
       "      <td>2.5581</td>\n",
       "      <td>2.0243</td>\n",
       "      <td>1.2454</td>\n",
       "      <td>1.2131</td>\n",
       "      <td>1.0128</td>\n",
       "      <td>0.9783</td>\n",
       "      <td>0.9528</td>\n",
       "      <td>0.9422</td>\n",
       "      <td>0.9335</td>\n",
       "      <td>0.8849</td>\n",
       "      <td>0.8560</td>\n",
       "      <td>0.8259</td>\n",
       "      <td>0.7556</td>\n",
       "      <td>0.7243</td>\n",
       "      <td>0.6354</td>\n",
       "      <td>0.5097</td>\n",
       "      <td>0.4992</td>\n",
       "      <td>0.4345</td>\n",
       "      <td>0.3632</td>\n",
       "      <td>0.2649</td>\n",
       "      <td>0.2020</td>\n",
       "      <td>0.1590</td>\n",
       "      <td>0.1524</td>\n",
       "    </tr>\n",
       "    <tr>\n",
       "      <th>Proportion of variance</th>\n",
       "      <td>0.2845</td>\n",
       "      <td>0.1782</td>\n",
       "      <td>0.0674</td>\n",
       "      <td>0.0640</td>\n",
       "      <td>0.0446</td>\n",
       "      <td>0.0416</td>\n",
       "      <td>0.0395</td>\n",
       "      <td>0.0386</td>\n",
       "      <td>0.0379</td>\n",
       "      <td>0.0340</td>\n",
       "      <td>0.0319</td>\n",
       "      <td>0.0297</td>\n",
       "      <td>0.0248</td>\n",
       "      <td>0.0228</td>\n",
       "      <td>0.0176</td>\n",
       "      <td>0.0113</td>\n",
       "      <td>0.0108</td>\n",
       "      <td>0.0082</td>\n",
       "      <td>0.0057</td>\n",
       "      <td>0.0030</td>\n",
       "      <td>0.0018</td>\n",
       "      <td>0.0011</td>\n",
       "      <td>0.0010</td>\n",
       "    </tr>\n",
       "    <tr>\n",
       "      <th>Cumulative proportion</th>\n",
       "      <td>0.2845</td>\n",
       "      <td>0.4627</td>\n",
       "      <td>0.5301</td>\n",
       "      <td>0.5941</td>\n",
       "      <td>0.6387</td>\n",
       "      <td>0.6803</td>\n",
       "      <td>0.7198</td>\n",
       "      <td>0.7584</td>\n",
       "      <td>0.7962</td>\n",
       "      <td>0.8303</td>\n",
       "      <td>0.8622</td>\n",
       "      <td>0.8918</td>\n",
       "      <td>0.9166</td>\n",
       "      <td>0.9394</td>\n",
       "      <td>0.9570</td>\n",
       "      <td>0.9683</td>\n",
       "      <td>0.9791</td>\n",
       "      <td>0.9873</td>\n",
       "      <td>0.9931</td>\n",
       "      <td>0.9961</td>\n",
       "      <td>0.9979</td>\n",
       "      <td>0.9990</td>\n",
       "      <td>1.0000</td>\n",
       "    </tr>\n",
       "  </tbody>\n",
       "</table>\n",
       "</div>"
      ],
      "text/plain": [
       "                           PC1     PC2     PC3     PC4     PC5     PC6  \\\n",
       "Standard deviation      2.5581  2.0243  1.2454  1.2131  1.0128  0.9783   \n",
       "Proportion of variance  0.2845  0.1782  0.0674  0.0640  0.0446  0.0416   \n",
       "Cumulative proportion   0.2845  0.4627  0.5301  0.5941  0.6387  0.6803   \n",
       "\n",
       "                           PC7     PC8     PC9    PC10    PC11    PC12  \\\n",
       "Standard deviation      0.9528  0.9422  0.9335  0.8849  0.8560  0.8259   \n",
       "Proportion of variance  0.0395  0.0386  0.0379  0.0340  0.0319  0.0297   \n",
       "Cumulative proportion   0.7198  0.7584  0.7962  0.8303  0.8622  0.8918   \n",
       "\n",
       "                          PC13    PC14    PC15    PC16    PC17    PC18  \\\n",
       "Standard deviation      0.7556  0.7243  0.6354  0.5097  0.4992  0.4345   \n",
       "Proportion of variance  0.0248  0.0228  0.0176  0.0113  0.0108  0.0082   \n",
       "Cumulative proportion   0.9166  0.9394  0.9570  0.9683  0.9791  0.9873   \n",
       "\n",
       "                          PC19    PC20    PC21    PC22    PC23  \n",
       "Standard deviation      0.3632  0.2649  0.2020  0.1590  0.1524  \n",
       "Proportion of variance  0.0057  0.0030  0.0018  0.0011  0.0010  \n",
       "Cumulative proportion   0.9931  0.9961  0.9979  0.9990  1.0000  "
      ]
     },
     "execution_count": 107,
     "metadata": {},
     "output_type": "execute_result"
    }
   ],
   "source": [
    "pcs = PCA()\n",
    "pcs.fit(preprocessing.scale(df_nulls.iloc[:, 1:-1].dropna(axis=0))) \n",
    "pcsSummary_df = pd.DataFrame({'Standard deviation': np.sqrt(pcs.explained_variance_),\n",
    "                             'Proportion of variance': pcs.explained_variance_ratio_,\n",
    "                             'Cumulative proportion': np.cumsum(pcs.explained_variance_ratio_)\n",
    "                             })\n",
    "\n",
    "pcsSummary_df = pcsSummary_df.transpose()\n",
    "pcsSummary_df.columns = ['PC{}'.format(i) for i in range(1, len(pcsSummary_df.columns) + 1)]\n",
    "pcsSummary_df.round(4) "
   ]
  },
  {
   "cell_type": "markdown",
   "metadata": {},
   "source": [
    "Graficamos la varianza explicada por los componentes para tener una mejor idea de los resultados:"
   ]
  },
  {
   "cell_type": "code",
   "execution_count": 97,
   "metadata": {},
   "outputs": [],
   "source": [
    "import matplotlib as mpl\n",
    "import matplotlib.pyplot as plt"
   ]
  },
  {
   "cell_type": "code",
   "execution_count": 98,
   "metadata": {},
   "outputs": [
    {
     "data": {
      "image/png": "[encoded data removed]",
      "text/plain": [
       "<Figure size 720x504 with 1 Axes>"
      ]
     },
     "metadata": {},
     "output_type": "display_data"
    }
   ],
   "source": [
    "PC_components = np.arange(pcs.n_components_) + 1\n",
    "\n",
    "_ = sns.set(style = 'whitegrid', \n",
    "            font_scale = 1.2\n",
    "            )\n",
    "\n",
    "fig, ax = plt.subplots(figsize=(10, 7))\n",
    "\n",
    "_ = sns.barplot(x = PC_components, \n",
    "                y = pcs.explained_variance_ratio_, \n",
    "                color = 'b'\n",
    "                )\n",
    "\n",
    "_ = sns.lineplot(x = PC_components-1, \n",
    "                 y = np.cumsum(pcs.explained_variance_ratio_), \n",
    "                 color = 'black', \n",
    "                 linestyle = '-', \n",
    "                 linewidth = 2, \n",
    "                 marker = 'o', \n",
    "                 markersize = 8\n",
    "                 )\n",
    "\n",
    "plt.title('Scree Plot')\n",
    "plt.xlabel('N-th Principal Component')\n",
    "plt.ylabel('Variance Explained')\n",
    "plt.ylim(0, 1)\n",
    "plt.show()"
   ]
  },
  {
   "cell_type": "code",
   "execution_count": 108,
   "metadata": {},
   "outputs": [
    {
     "data": {
      "text/html": [
       "<div>\n",
       "<style scoped>\n",
       "    .dataframe tbody tr th:only-of-type {\n",
       "        vertical-align: middle;\n",
       "    }\n",
       "\n",
       "    .dataframe tbody tr th {\n",
       "        vertical-align: top;\n",
       "    }\n",
       "\n",
       "    .dataframe thead th {\n",
       "        text-align: right;\n",
       "    }\n",
       "</style>\n",
       "<table border=\"1\" class=\"dataframe\">\n",
       "  <thead>\n",
       "    <tr style=\"text-align: right;\">\n",
       "      <th></th>\n",
       "      <th>PC1</th>\n",
       "      <th>PC2</th>\n",
       "      <th>PC3</th>\n",
       "      <th>PC4</th>\n",
       "      <th>PC5</th>\n",
       "      <th>PC6</th>\n",
       "      <th>PC7</th>\n",
       "      <th>PC8</th>\n",
       "      <th>PC9</th>\n",
       "      <th>PC10</th>\n",
       "      <th>PC11</th>\n",
       "      <th>PC12</th>\n",
       "      <th>PC13</th>\n",
       "    </tr>\n",
       "  </thead>\n",
       "  <tbody>\n",
       "    <tr>\n",
       "      <th>X1</th>\n",
       "      <td>0.068513</td>\n",
       "      <td>0.316364</td>\n",
       "      <td>0.017300</td>\n",
       "      <td>0.069526</td>\n",
       "      <td>-0.150030</td>\n",
       "      <td>-0.375095</td>\n",
       "      <td>0.106564</td>\n",
       "      <td>-0.059519</td>\n",
       "      <td>0.021914</td>\n",
       "      <td>0.017330</td>\n",
       "      <td>0.008608</td>\n",
       "      <td>-0.097753</td>\n",
       "      <td>0.359992</td>\n",
       "    </tr>\n",
       "    <tr>\n",
       "      <th>X2</th>\n",
       "      <td>-0.021586</td>\n",
       "      <td>0.030205</td>\n",
       "      <td>0.024284</td>\n",
       "      <td>-0.078109</td>\n",
       "      <td>0.883357</td>\n",
       "      <td>-0.396295</td>\n",
       "      <td>0.065237</td>\n",
       "      <td>-0.027989</td>\n",
       "      <td>0.019138</td>\n",
       "      <td>0.023981</td>\n",
       "      <td>-0.009356</td>\n",
       "      <td>0.057416</td>\n",
       "      <td>0.176851</td>\n",
       "    </tr>\n",
       "    <tr>\n",
       "      <th>X3</th>\n",
       "      <td>0.019167</td>\n",
       "      <td>-0.091513</td>\n",
       "      <td>-0.316638</td>\n",
       "      <td>0.246490</td>\n",
       "      <td>0.365704</td>\n",
       "      <td>0.563608</td>\n",
       "      <td>-0.400609</td>\n",
       "      <td>0.080516</td>\n",
       "      <td>-0.156240</td>\n",
       "      <td>0.062782</td>\n",
       "      <td>0.001826</td>\n",
       "      <td>-0.185169</td>\n",
       "      <td>0.084609</td>\n",
       "    </tr>\n",
       "    <tr>\n",
       "      <th>X4</th>\n",
       "      <td>-0.005612</td>\n",
       "      <td>-0.043043</td>\n",
       "      <td>0.453725</td>\n",
       "      <td>-0.443931</td>\n",
       "      <td>-0.053225</td>\n",
       "      <td>0.280022</td>\n",
       "      <td>-0.160569</td>\n",
       "      <td>0.026316</td>\n",
       "      <td>-0.056505</td>\n",
       "      <td>0.038759</td>\n",
       "      <td>-0.010357</td>\n",
       "      <td>-0.142041</td>\n",
       "      <td>0.666526</td>\n",
       "    </tr>\n",
       "    <tr>\n",
       "      <th>X5</th>\n",
       "      <td>0.014262</td>\n",
       "      <td>0.066656</td>\n",
       "      <td>-0.463023</td>\n",
       "      <td>0.462041</td>\n",
       "      <td>-0.164345</td>\n",
       "      <td>-0.088112</td>\n",
       "      <td>0.081440</td>\n",
       "      <td>-0.012669</td>\n",
       "      <td>0.047052</td>\n",
       "      <td>0.008012</td>\n",
       "      <td>-0.021446</td>\n",
       "      <td>-0.048505</td>\n",
       "      <td>0.577125</td>\n",
       "    </tr>\n",
       "    <tr>\n",
       "      <th>X6</th>\n",
       "      <td>0.161183</td>\n",
       "      <td>-0.298260</td>\n",
       "      <td>-0.017384</td>\n",
       "      <td>0.016395</td>\n",
       "      <td>-0.035463</td>\n",
       "      <td>-0.039066</td>\n",
       "      <td>-0.086692</td>\n",
       "      <td>0.021131</td>\n",
       "      <td>-0.030753</td>\n",
       "      <td>0.003439</td>\n",
       "      <td>0.044480</td>\n",
       "      <td>0.623610</td>\n",
       "      <td>0.156214</td>\n",
       "    </tr>\n",
       "    <tr>\n",
       "      <th>X7</th>\n",
       "      <td>0.194171</td>\n",
       "      <td>-0.334879</td>\n",
       "      <td>0.017808</td>\n",
       "      <td>0.050119</td>\n",
       "      <td>-0.037997</td>\n",
       "      <td>-0.060660</td>\n",
       "      <td>-0.091881</td>\n",
       "      <td>0.015266</td>\n",
       "      <td>-0.033568</td>\n",
       "      <td>0.006629</td>\n",
       "      <td>0.028042</td>\n",
       "      <td>0.376411</td>\n",
       "      <td>0.081480</td>\n",
       "    </tr>\n",
       "    <tr>\n",
       "      <th>X8</th>\n",
       "      <td>0.200348</td>\n",
       "      <td>-0.343802</td>\n",
       "      <td>0.061514</td>\n",
       "      <td>0.084101</td>\n",
       "      <td>-0.023945</td>\n",
       "      <td>-0.069601</td>\n",
       "      <td>-0.020974</td>\n",
       "      <td>-0.026630</td>\n",
       "      <td>-0.011472</td>\n",
       "      <td>-0.024926</td>\n",
       "      <td>-0.106814</td>\n",
       "      <td>0.100277</td>\n",
       "      <td>0.051691</td>\n",
       "    </tr>\n",
       "    <tr>\n",
       "      <th>X9</th>\n",
       "      <td>0.207166</td>\n",
       "      <td>-0.344508</td>\n",
       "      <td>0.088704</td>\n",
       "      <td>0.109227</td>\n",
       "      <td>-0.007883</td>\n",
       "      <td>-0.087272</td>\n",
       "      <td>0.039403</td>\n",
       "      <td>-0.056142</td>\n",
       "      <td>0.044599</td>\n",
       "      <td>-0.057006</td>\n",
       "      <td>-0.007062</td>\n",
       "      <td>-0.211043</td>\n",
       "      <td>0.018232</td>\n",
       "    </tr>\n",
       "    <tr>\n",
       "      <th>X10</th>\n",
       "      <td>0.211029</td>\n",
       "      <td>-0.331488</td>\n",
       "      <td>0.108582</td>\n",
       "      <td>0.115438</td>\n",
       "      <td>0.001892</td>\n",
       "      <td>-0.087219</td>\n",
       "      <td>0.104041</td>\n",
       "      <td>-0.033713</td>\n",
       "      <td>0.054854</td>\n",
       "      <td>0.066757</td>\n",
       "      <td>0.010431</td>\n",
       "      <td>-0.358645</td>\n",
       "      <td>-0.023265</td>\n",
       "    </tr>\n",
       "    <tr>\n",
       "      <th>X11</th>\n",
       "      <td>0.206424</td>\n",
       "      <td>-0.305686</td>\n",
       "      <td>0.110779</td>\n",
       "      <td>0.109831</td>\n",
       "      <td>0.012522</td>\n",
       "      <td>-0.091524</td>\n",
       "      <td>0.139149</td>\n",
       "      <td>0.047064</td>\n",
       "      <td>-0.000564</td>\n",
       "      <td>0.014062</td>\n",
       "      <td>0.023396</td>\n",
       "      <td>-0.400774</td>\n",
       "      <td>-0.039882</td>\n",
       "    </tr>\n",
       "    <tr>\n",
       "      <th>X12</th>\n",
       "      <td>0.334369</td>\n",
       "      <td>0.139887</td>\n",
       "      <td>-0.150587</td>\n",
       "      <td>-0.168097</td>\n",
       "      <td>-0.013099</td>\n",
       "      <td>0.017557</td>\n",
       "      <td>-0.065339</td>\n",
       "      <td>-0.023033</td>\n",
       "      <td>-0.064733</td>\n",
       "      <td>0.011586</td>\n",
       "      <td>0.010262</td>\n",
       "      <td>0.043279</td>\n",
       "      <td>-0.008241</td>\n",
       "    </tr>\n",
       "    <tr>\n",
       "      <th>X13</th>\n",
       "      <td>0.345767</td>\n",
       "      <td>0.140300</td>\n",
       "      <td>-0.126857</td>\n",
       "      <td>-0.149458</td>\n",
       "      <td>0.004766</td>\n",
       "      <td>0.055352</td>\n",
       "      <td>-0.014389</td>\n",
       "      <td>-0.076028</td>\n",
       "      <td>-0.045693</td>\n",
       "      <td>-0.036929</td>\n",
       "      <td>-0.132658</td>\n",
       "      <td>0.040651</td>\n",
       "      <td>-0.016596</td>\n",
       "    </tr>\n",
       "    <tr>\n",
       "      <th>X14</th>\n",
       "      <td>0.349744</td>\n",
       "      <td>0.146301</td>\n",
       "      <td>-0.083774</td>\n",
       "      <td>-0.104806</td>\n",
       "      <td>0.030031</td>\n",
       "      <td>0.085561</td>\n",
       "      <td>-0.003485</td>\n",
       "      <td>-0.125605</td>\n",
       "      <td>0.080020</td>\n",
       "      <td>-0.122078</td>\n",
       "      <td>0.100117</td>\n",
       "      <td>0.013272</td>\n",
       "      <td>-0.019715</td>\n",
       "    </tr>\n",
       "    <tr>\n",
       "      <th>X15</th>\n",
       "      <td>0.353848</td>\n",
       "      <td>0.145535</td>\n",
       "      <td>-0.070378</td>\n",
       "      <td>-0.100679</td>\n",
       "      <td>0.022853</td>\n",
       "      <td>0.064211</td>\n",
       "      <td>0.065792</td>\n",
       "      <td>-0.036551</td>\n",
       "      <td>0.026872</td>\n",
       "      <td>0.123613</td>\n",
       "      <td>0.034017</td>\n",
       "      <td>-0.013305</td>\n",
       "      <td>-0.036803</td>\n",
       "    </tr>\n",
       "    <tr>\n",
       "      <th>X16</th>\n",
       "      <td>0.351716</td>\n",
       "      <td>0.143849</td>\n",
       "      <td>-0.056454</td>\n",
       "      <td>-0.088764</td>\n",
       "      <td>0.022500</td>\n",
       "      <td>0.024940</td>\n",
       "      <td>0.080082</td>\n",
       "      <td>0.113135</td>\n",
       "      <td>-0.069577</td>\n",
       "      <td>-0.005522</td>\n",
       "      <td>0.047083</td>\n",
       "      <td>-0.041746</td>\n",
       "      <td>-0.037451</td>\n",
       "    </tr>\n",
       "    <tr>\n",
       "      <th>X17</th>\n",
       "      <td>0.344477</td>\n",
       "      <td>0.141978</td>\n",
       "      <td>-0.047436</td>\n",
       "      <td>-0.084054</td>\n",
       "      <td>0.010607</td>\n",
       "      <td>-0.021757</td>\n",
       "      <td>-0.050037</td>\n",
       "      <td>0.163443</td>\n",
       "      <td>0.080252</td>\n",
       "      <td>0.013677</td>\n",
       "      <td>-0.006040</td>\n",
       "      <td>-0.059113</td>\n",
       "      <td>-0.049117</td>\n",
       "    </tr>\n",
       "    <tr>\n",
       "      <th>X18</th>\n",
       "      <td>0.094157</td>\n",
       "      <td>0.149151</td>\n",
       "      <td>0.281554</td>\n",
       "      <td>0.280571</td>\n",
       "      <td>0.093218</td>\n",
       "      <td>0.239737</td>\n",
       "      <td>0.202774</td>\n",
       "      <td>-0.266552</td>\n",
       "      <td>0.036867</td>\n",
       "      <td>-0.236760</td>\n",
       "      <td>-0.728411</td>\n",
       "      <td>0.108851</td>\n",
       "      <td>0.000637</td>\n",
       "    </tr>\n",
       "    <tr>\n",
       "      <th>X19</th>\n",
       "      <td>0.078630</td>\n",
       "      <td>0.139870</td>\n",
       "      <td>0.301459</td>\n",
       "      <td>0.311715</td>\n",
       "      <td>0.107895</td>\n",
       "      <td>0.256009</td>\n",
       "      <td>0.103214</td>\n",
       "      <td>-0.217601</td>\n",
       "      <td>0.394650</td>\n",
       "      <td>-0.278142</td>\n",
       "      <td>0.596920</td>\n",
       "      <td>0.103740</td>\n",
       "      <td>0.029870</td>\n",
       "    </tr>\n",
       "    <tr>\n",
       "      <th>X20</th>\n",
       "      <td>0.086332</td>\n",
       "      <td>0.151574</td>\n",
       "      <td>0.279978</td>\n",
       "      <td>0.278742</td>\n",
       "      <td>0.036499</td>\n",
       "      <td>0.142547</td>\n",
       "      <td>0.226609</td>\n",
       "      <td>0.230746</td>\n",
       "      <td>-0.033675</td>\n",
       "      <td>0.784894</td>\n",
       "      <td>0.023984</td>\n",
       "      <td>0.141091</td>\n",
       "      <td>-0.025228</td>\n",
       "    </tr>\n",
       "    <tr>\n",
       "      <th>X21</th>\n",
       "      <td>0.077751</td>\n",
       "      <td>0.141400</td>\n",
       "      <td>0.237215</td>\n",
       "      <td>0.236939</td>\n",
       "      <td>0.013491</td>\n",
       "      <td>-0.061286</td>\n",
       "      <td>0.024135</td>\n",
       "      <td>0.645232</td>\n",
       "      <td>-0.447239</td>\n",
       "      <td>-0.435369</td>\n",
       "      <td>0.074350</td>\n",
       "      <td>0.025697</td>\n",
       "      <td>0.001141</td>\n",
       "    </tr>\n",
       "    <tr>\n",
       "      <th>X22</th>\n",
       "      <td>0.075281</td>\n",
       "      <td>0.137144</td>\n",
       "      <td>0.193884</td>\n",
       "      <td>0.176290</td>\n",
       "      <td>-0.057166</td>\n",
       "      <td>-0.254311</td>\n",
       "      <td>-0.702689</td>\n",
       "      <td>0.196907</td>\n",
       "      <td>0.473078</td>\n",
       "      <td>0.055903</td>\n",
       "      <td>-0.185047</td>\n",
       "      <td>-0.042524</td>\n",
       "      <td>-0.072034</td>\n",
       "    </tr>\n",
       "    <tr>\n",
       "      <th>X23</th>\n",
       "      <td>0.069898</td>\n",
       "      <td>0.129385</td>\n",
       "      <td>0.209006</td>\n",
       "      <td>0.207647</td>\n",
       "      <td>-0.052362</td>\n",
       "      <td>-0.192610</td>\n",
       "      <td>-0.357965</td>\n",
       "      <td>-0.539231</td>\n",
       "      <td>-0.596139</td>\n",
       "      <td>0.104824</td>\n",
       "      <td>0.161273</td>\n",
       "      <td>-0.042594</td>\n",
       "      <td>-0.076431</td>\n",
       "    </tr>\n",
       "  </tbody>\n",
       "</table>\n",
       "</div>"
      ],
      "text/plain": [
       "          PC1       PC2       PC3       PC4       PC5       PC6       PC7  \\\n",
       "X1   0.068513  0.316364  0.017300  0.069526 -0.150030 -0.375095  0.106564   \n",
       "X2  -0.021586  0.030205  0.024284 -0.078109  0.883357 -0.396295  0.065237   \n",
       "X3   0.019167 -0.091513 -0.316638  0.246490  0.365704  0.563608 -0.400609   \n",
       "X4  -0.005612 -0.043043  0.453725 -0.443931 -0.053225  0.280022 -0.160569   \n",
       "X5   0.014262  0.066656 -0.463023  0.462041 -0.164345 -0.088112  0.081440   \n",
       "X6   0.161183 -0.298260 -0.017384  0.016395 -0.035463 -0.039066 -0.086692   \n",
       "X7   0.194171 -0.334879  0.017808  0.050119 -0.037997 -0.060660 -0.091881   \n",
       "X8   0.200348 -0.343802  0.061514  0.084101 -0.023945 -0.069601 -0.020974   \n",
       "X9   0.207166 -0.344508  0.088704  0.109227 -0.007883 -0.087272  0.039403   \n",
       "X10  0.211029 -0.331488  0.108582  0.115438  0.001892 -0.087219  0.104041   \n",
       "X11  0.206424 -0.305686  0.110779  0.109831  0.012522 -0.091524  0.139149   \n",
       "X12  0.334369  0.139887 -0.150587 -0.168097 -0.013099  0.017557 -0.065339   \n",
       "X13  0.345767  0.140300 -0.126857 -0.149458  0.004766  0.055352 -0.014389   \n",
       "X14  0.349744  0.146301 -0.083774 -0.104806  0.030031  0.085561 -0.003485   \n",
       "X15  0.353848  0.145535 -0.070378 -0.100679  0.022853  0.064211  0.065792   \n",
       "X16  0.351716  0.143849 -0.056454 -0.088764  0.022500  0.024940  0.080082   \n",
       "X17  0.344477  0.141978 -0.047436 -0.084054  0.010607 -0.021757 -0.050037   \n",
       "X18  0.094157  0.149151  0.281554  0.280571  0.093218  0.239737  0.202774   \n",
       "X19  0.078630  0.139870  0.301459  0.311715  0.107895  0.256009  0.103214   \n",
       "X20  0.086332  0.151574  0.279978  0.278742  0.036499  0.142547  0.226609   \n",
       "X21  0.077751  0.141400  0.237215  0.236939  0.013491 -0.061286  0.024135   \n",
       "X22  0.075281  0.137144  0.193884  0.176290 -0.057166 -0.254311 -0.702689   \n",
       "X23  0.069898  0.129385  0.209006  0.207647 -0.052362 -0.192610 -0.357965   \n",
       "\n",
       "          PC8       PC9      PC10      PC11      PC12      PC13  \n",
       "X1  -0.059519  0.021914  0.017330  0.008608 -0.097753  0.359992  \n",
       "X2  -0.027989  0.019138  0.023981 -0.009356  0.057416  0.176851  \n",
       "X3   0.080516 -0.156240  0.062782  0.001826 -0.185169  0.084609  \n",
       "X4   0.026316 -0.056505  0.038759 -0.010357 -0.142041  0.666526  \n",
       "X5  -0.012669  0.047052  0.008012 -0.021446 -0.048505  0.577125  \n",
       "X6   0.021131 -0.030753  0.003439  0.044480  0.623610  0.156214  \n",
       "X7   0.015266 -0.033568  0.006629  0.028042  0.376411  0.081480  \n",
       "X8  -0.026630 -0.011472 -0.024926 -0.106814  0.100277  0.051691  \n",
       "X9  -0.056142  0.044599 -0.057006 -0.007062 -0.211043  0.018232  \n",
       "X10 -0.033713  0.054854  0.066757  0.010431 -0.358645 -0.023265  \n",
       "X11  0.047064 -0.000564  0.014062  0.023396 -0.400774 -0.039882  \n",
       "X12 -0.023033 -0.064733  0.011586  0.010262  0.043279 -0.008241  \n",
       "X13 -0.076028 -0.045693 -0.036929 -0.132658  0.040651 -0.016596  \n",
       "X14 -0.125605  0.080020 -0.122078  0.100117  0.013272 -0.019715  \n",
       "X15 -0.036551  0.026872  0.123613  0.034017 -0.013305 -0.036803  \n",
       "X16  0.113135 -0.069577 -0.005522  0.047083 -0.041746 -0.037451  \n",
       "X17  0.163443  0.080252  0.013677 -0.006040 -0.059113 -0.049117  \n",
       "X18 -0.266552  0.036867 -0.236760 -0.728411  0.108851  0.000637  \n",
       "X19 -0.217601  0.394650 -0.278142  0.596920  0.103740  0.029870  \n",
       "X20  0.230746 -0.033675  0.784894  0.023984  0.141091 -0.025228  \n",
       "X21  0.645232 -0.447239 -0.435369  0.074350  0.025697  0.001141  \n",
       "X22  0.196907  0.473078  0.055903 -0.185047 -0.042524 -0.072034  \n",
       "X23 -0.539231 -0.596139  0.104824  0.161273 -0.042594 -0.076431  "
      ]
     },
     "execution_count": 108,
     "metadata": {},
     "output_type": "execute_result"
    }
   ],
   "source": [
    "pcsComponents_df = pd.DataFrame(pcs.components_.transpose(), \n",
    "                                columns = pcsSummary_df.columns,\n",
    "                                index = df_nulls.iloc[:, 1:-1].columns\n",
    "                                )\n",
    "pcsComponents_df.iloc[:,:13]"
   ]
  },
  {
   "cell_type": "code",
   "execution_count": 148,
   "metadata": {},
   "outputs": [
    {
     "name": "stdout",
     "output_type": "stream",
     "text": [
      "X15 X4\n"
     ]
    }
   ],
   "source": [
    "print(pcsComponents_df.PC1.abs().idxmax(), pcsComponents_df.PC1.abs().idxmin())"
   ]
  },
  {
   "cell_type": "code",
   "execution_count": 149,
   "metadata": {},
   "outputs": [
    {
     "name": "stdout",
     "output_type": "stream",
     "text": [
      "X9 X2\n"
     ]
    }
   ],
   "source": [
    "print(pcsComponents_df.PC2.abs().idxmax(), pcsComponents_df.PC2.abs().idxmin())"
   ]
  },
  {
   "cell_type": "code",
   "execution_count": 150,
   "metadata": {},
   "outputs": [
    {
     "name": "stdout",
     "output_type": "stream",
     "text": [
      "X5 X1\n"
     ]
    }
   ],
   "source": [
    "print(pcsComponents_df.PC3.abs().idxmax(), pcsComponents_df.PC3.abs().idxmin())"
   ]
  },
  {
   "cell_type": "code",
   "execution_count": 151,
   "metadata": {},
   "outputs": [
    {
     "name": "stdout",
     "output_type": "stream",
     "text": [
      "X5 X6\n"
     ]
    }
   ],
   "source": [
    "print(pcsComponents_df.PC4.abs().idxmax(), pcsComponents_df.PC4.abs().idxmin())"
   ]
  },
  {
   "cell_type": "code",
   "execution_count": 152,
   "metadata": {},
   "outputs": [
    {
     "name": "stdout",
     "output_type": "stream",
     "text": [
      "X2 X10\n"
     ]
    }
   ],
   "source": [
    "print(pcsComponents_df.PC5.abs().idxmax(), pcsComponents_df.PC5.abs().idxmin())"
   ]
  },
  {
   "cell_type": "markdown",
   "metadata": {},
   "source": [
    "## Parte 2: Responde las siguientes preguntas en una celda de texto en Jupyter Notebook"
   ]
  },
  {
   "cell_type": "markdown",
   "metadata": {},
   "source": [
    "#### ¿Cuál es el número de componentes mínimo y por qué?"
   ]
  },
  {
   "cell_type": "markdown",
   "metadata": {},
   "source": [
    "###### Debido a que buscamos contar con las componentes que expliquen por lo menos el 90% de la varianza de los datos, nos quedamos con las 13 componentes principales."
   ]
  },
  {
   "cell_type": "markdown",
   "metadata": {},
   "source": [
    "#### ¿Cuál es la variación de los datos que representan esos componentes?"
   ]
  },
  {
   "cell_type": "markdown",
   "metadata": {},
   "source": [
    "###### Las 13 primeras componentes representan el 91.66% de la varianza."
   ]
  },
  {
   "cell_type": "markdown",
   "metadata": {},
   "source": [
    "#### ¿Cuál es la pérdida de información después de realizar PCA?"
   ]
  },
  {
   "cell_type": "markdown",
   "metadata": {},
   "source": [
    "###### Se pierde el 8.34% de la información."
   ]
  },
  {
   "cell_type": "markdown",
   "metadata": {},
   "source": [
    "#### De las variables originales, ¿Cuál tiene mayor y cuál tiene menor importancia en los componentes principales?"
   ]
  },
  {
   "cell_type": "markdown",
   "metadata": {},
   "source": [
    "###### Analizamos los pesos más fuertes de las primeras 3 componentes:\n",
    "\n",
    "* Para la primera componente, la variable más importante parece ser X15 (Monto del estado de cuenta en Junio del 2005), mientras que la menos importante es X4 (Estado civil).\n",
    "\n",
    "* La variable X9 (Historial de pagos de junio) es la que más afecta a la segunda componente principal. La que menos la afecta es el género (X2).\n",
    "\n",
    "* La tercera y cuarta componentes son afectadas principalmente por la edad, mientras que el monto del crédito no es importante."
   ]
  },
  {
   "cell_type": "markdown",
   "metadata": {},
   "source": [
    "#### ¿Cuándo se recomienda realizar un PCA y qué beneficios ofrece para Machine Learning? "
   ]
  },
  {
   "cell_type": "markdown",
   "metadata": {},
   "source": [
    "###### Se recomienda realizar PCA cuando se tiene muchas variables y estas están muy correlacionadas entre ellas generando redundancia. Este método permite reducir la cantidad de variables y conservar únicamente las que son capaces de explicar de mejor manera a las anteriores. Para el Machine Learning, puede ser de gran utilidad al reducir los costos computacionales para entrenar modelos."
   ]
  }
 ],
 "metadata": {
  "kernelspec": {
   "display_name": "Python 3 (ipykernel)",
   "language": "python",
   "name": "python3"
  },
  "language_info": {
   "codemirror_mode": {
    "name": "ipython",
    "version": 3
   },
   "file_extension": ".py",
   "mimetype": "text/x-python",
   "name": "python",
   "nbconvert_exporter": "python",
   "pygments_lexer": "ipython3",
   "version": "3.9.12"
  },
  "vscode": {
   "interpreter": {
    "hash": "3317554ab28e181851dbd53ea105d41672e150d96f15b020bca5b3ed554e7c22"
   }
  }
 },
 "nbformat": 4,
 "nbformat_minor": 2
}
