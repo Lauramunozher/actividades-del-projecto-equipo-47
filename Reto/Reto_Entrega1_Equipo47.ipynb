{
  "nbformat": 4,
  "nbformat_minor": 0,
  "metadata": {
    "kernelspec": {
      "display_name": "Python 3",
      "language": "python",
      "name": "python3"
    },
    "language_info": {
      "codemirror_mode": {
        "name": "ipython",
        "version": 3
      },
      "file_extension": ".py",
      "mimetype": "text/x-python",
      "name": "python",
      "nbconvert_exporter": "python",
      "pygments_lexer": "ipython3",
      "version": "3.7.7"
    },
    "colab": {
      "provenance": [],
      "collapsed_sections": [],
      "toc_visible": true,
      "include_colab_link": true
    },
    "gpuClass": "standard"
  },
  "cells": [
    {
      "cell_type": "markdown",
      "metadata": {
        "id": "view-in-github",
        "colab_type": "text"
      },
      "source": [
        "<a href=\"https://colab.research.google.com/github/PosgradoMNA/actividades-del-projecto-equipo-47/blob/main/Reto_Entrega1_Equipo47.ipynb\" target=\"_parent\"><img src=\"https://colab.research.google.com/assets/colab-badge.svg\" alt=\"Open In Colab\"/></a>"
      ]
    },
    {
      "cell_type": "markdown",
      "source": [
        "\n",
        "# Reto:  Entrega 1\n",
        "\n",
        "## Materia: Ciencia y analítica de datos\n",
        "\n",
        "Profa. María de la Paz Rico\n",
        "\n",
        "Prof. Roberto Antonio Guevara González\n",
        "\n",
        "## Nombres: Adriana Camarillo Durán, Laura Munoz Hernandez\n",
        "\n",
        "## Matrícula: A01551139, A01167496\n",
        "\n",
        "Fecha de entrega: 16/11/2022"
      ],
      "metadata": {
        "id": "BoKpL8h7jPlB"
      }
    },
    {
      "cell_type": "markdown",
      "metadata": {
        "id": "WUO-kdryVQwK"
      },
      "source": [
        "# Limpieza de la base de datos\n"
      ]
    },
    {
      "cell_type": "code",
      "source": [],
      "metadata": {
        "id": "YCC8SUm9kWFR"
      },
      "execution_count": null,
      "outputs": []
    },
    {
      "cell_type": "markdown",
      "source": [
        "# Exploración de los datos"
      ],
      "metadata": {
        "id": "J74wRF_6kVdu"
      }
    },
    {
      "cell_type": "code",
      "source": [],
      "metadata": {
        "id": "X2FbizDPkZfL"
      },
      "execution_count": null,
      "outputs": []
    },
    {
      "cell_type": "markdown",
      "source": [
        "# K-means"
      ],
      "metadata": {
        "id": "8ucrYJ67kZ7n"
      }
    },
    {
      "cell_type": "code",
      "source": [],
      "metadata": {
        "id": "hinyS0O0khJ_"
      },
      "execution_count": null,
      "outputs": []
    },
    {
      "cell_type": "markdown",
      "source": [
        "## Resultados"
      ],
      "metadata": {
        "id": "l14TI7SJkiOt"
      }
    },
    {
      "cell_type": "code",
      "source": [],
      "metadata": {
        "id": "Dy8jVl-xkhzj"
      },
      "execution_count": null,
      "outputs": []
    }
  ]
}
