{
 "cells": [
  {
   "cell_type": "markdown",
   "metadata": {},
   "source": [
    "### Stroke Prediction Dataset"
   ]
  },
  {
   "cell_type": "markdown",
   "metadata": {},
   "source": [
    "Dataset obtained from: https://www.kaggle.com/datasets/fedesoriano/stroke-prediction-dataset"
   ]
  },
  {
   "cell_type": "markdown",
   "metadata": {},
   "source": [
    "According to the World Health Organization (WHO) stroke is the 2nd leading cause of death globally, responsible for approximately 11% of total deaths.\n",
    "This dataset is used to predict whether a patient is likely to get stroke based on the input parameters like gender, age, various diseases, and smoking status. Each row in the data provides relavant information about the patient."
   ]
  },
  {
   "cell_type": "markdown",
   "metadata": {},
   "source": [
    "Attribute Information\n",
    "1) id: unique identifier\n",
    "2) gender: \"Male\", \"Female\" or \"Other\"\n",
    "3) age: age of the patient\n",
    "4) hypertension: 0 if the patient doesn't have hypertension, 1 if the patient has hypertension\n",
    "5) heart_disease: 0 if the patient doesn't have any heart diseases, 1 if the patient has a heart disease\n",
    "6) ever_married: \"No\" or \"Yes\"\n",
    "7) work_type: \"children\", \"Govt_jov\", \"Never_worked\", \"Private\" or \"Self-employed\"\n",
    "8) Residence_type: \"Rural\" or \"Urban\"\n",
    "9) avg_glucose_level: average glucose level in blood\n",
    "10) bmi: body mass index\n",
    "11) smoking_status: \"formerly smoked\", \"never smoked\", \"smokes\" or \"Unknown\"*\n",
    "12) stroke: 1 if the patient had a stroke or 0 if not\n",
    "*Note: \"Unknown\" in smoking_status means that the information is unavailable for this patient"
   ]
  },
  {
   "cell_type": "markdown",
   "metadata": {},
   "source": [
    "Preguntas\n",
    "\n",
    "1. ¿A qué edad corres más riesgo de tener un paro?\n",
    "2. ¿Las personas casadas corren más riesgo?\n",
    "3. ¿Vivir en el campo puede reducir la probabilidad de padecer un paro?\n",
    "4. ¿Si fumas aumenta la probabilidad?\n",
    "5. ¿Las personas que sufren de paro ya tenían enfermeddes relacionadas con el corazón?\n",
    "6. ¿Las personas que no trabajan tienen un menor riesgo?\n",
    "7. ¿Quiénes tienen más probabilidad de tener un ataque al corazón? ¿Hombres o mujeres?\n",
    "8. ¿Si tu IMC se encuentra en rangos normales reduces el rieso de un paro?\n",
    "\n",
    "El gobierno podría estar interesado en conocer estás respuestas para detectar las posibles causas y atacar a tiempo este problema. \n",
    "La proporción de los costos de atención médica que los hogares pagan directamente en México es la segunda más alta en la OCDE y tenemos la mayor tasa de mortalidad a 30 días posteriores de un ataque cardíaco."
   ]
  }
 ],
 "metadata": {
  "kernelspec": {
   "display_name": "Python 3.8.10 64-bit (system)",
   "language": "python",
   "name": "python3"
  },
  "language_info": {
   "name": "python",
   "version": "3.8.10"
  },
  "orig_nbformat": 4,
  "vscode": {
   "interpreter": {
    "hash": "3317554ab28e181851dbd53ea105d41672e150d96f15b020bca5b3ed554e7c22"
   }
  }
 },
 "nbformat": 4,
 "nbformat_minor": 2
}
